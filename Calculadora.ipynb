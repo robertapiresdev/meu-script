{
  "nbformat": 4,
  "nbformat_minor": 0,
  "metadata": {
    "colab": {
      "provenance": []
    },
    "kernelspec": {
      "name": "python3",
      "display_name": "Python 3"
    },
    "language_info": {
      "name": "python"
    }
  },
  "cells": [
    {
      "cell_type": "code",
      "execution_count": 4,
      "metadata": {
        "colab": {
          "base_uri": "https://localhost:8080/"
        },
        "id": "JL6gpH8OPwog",
        "outputId": "8361e4ba-b879-4093-e4c6-8fd0fddbb21c"
      },
      "outputs": [
        {
          "output_type": "stream",
          "name": "stdout",
          "text": [
            "Digite o primeiro número: 2\n",
            "Digite o segundo número: 2\n",
            "\n",
            "Qual operação deseja realizar?\n",
            "1 - Soma\n",
            "2 - Subtração\n",
            "3 - Multiplicação\n",
            "4 - Divisão\n",
            "Digite o número da operação: 5\n",
            "Opção inválida!\n"
          ]
        }
      ],
      "source": [
        "# Projeto 1 - Calculadora\n",
        "\n",
        "# Usuário insere os dados\n",
        "# Usado float() em vez de int() para permitir entradas com casas decimais\n",
        "num1 = float(input(\"Digite o primeiro número: \"))\n",
        "num2 = float(input(\"Digite o segundo número: \"))\n",
        "\n",
        "# Menu de operações\n",
        "print(\"\\nQual operação deseja realizar?\")\n",
        "print(\"1 - Soma\")\n",
        "print(\"2 - Subtração\")\n",
        "print(\"3 - Multiplicação\")\n",
        "print(\"4 - Divisão\")\n",
        "\n",
        "# Decisão do usuário\n",
        "operacao = input(\"Digite o número da operação: \")\n",
        "\n",
        "# Condicional para realizar a operação escolhida\n",
        "if operacao == \"1\":\n",
        "    resultado = num1 + num2\n",
        "    print(\"Resultado da soma:\", resultado)\n",
        "elif operacao == \"2\":\n",
        "    resultado = num1 - num2\n",
        "    print(\"Resultado da subtração:\", resultado)\n",
        "elif operacao == \"3\":\n",
        "    resultado = num1 * num2\n",
        "    print(\"Resultado da multiplicação:\", resultado)\n",
        "elif operacao == \"4\":\n",
        "    if num2 != 0:\n",
        "        resultado = num1 / num2\n",
        "        print(\"Resultado da divisão:\", resultado)\n",
        "    else:\n",
        "        print(\"Não é possível dividir por zero.\")\n",
        "#Caso o usuário digite uma opção inexistente de operação\n",
        "else:\n",
        "    print(\"Opção inválida!\")\n"
      ]
    },
    {
      "cell_type": "code",
      "source": [],
      "metadata": {
        "id": "rXIg9GyWQJ_f"
      },
      "execution_count": null,
      "outputs": []
    }
  ]
}